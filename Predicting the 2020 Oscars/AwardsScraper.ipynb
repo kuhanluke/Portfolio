{
 "cells": [
  {
   "cell_type": "code",
   "execution_count": 1,
   "metadata": {
    "Collapsed": "false"
   },
   "outputs": [],
   "source": [
    "import pandas as pd\n",
    "import numpy as np\n",
    "\n",
    "from bs4 import BeautifulSoup\n",
    "import requests\n",
    "from IPython.core.display import display, HTML"
   ]
  },
  {
   "cell_type": "code",
   "execution_count": 2,
   "metadata": {
    "Collapsed": "false"
   },
   "outputs": [],
   "source": [
    "def all_lowercase(df):\n",
    "    for col in df.columns:\n",
    "        if type(df[col][4]) == str:\n",
    "            df[col] = df[col].str.lower()"
   ]
  },
  {
   "cell_type": "markdown",
   "metadata": {
    "Collapsed": "true",
    "heading_collapsed": true
   },
   "source": [
    "# BAFTA"
   ]
  },
  {
   "cell_type": "code",
   "execution_count": 3,
   "metadata": {
    "Collapsed": "false",
    "hidden": true
   },
   "outputs": [],
   "source": [
    "bafilmurl = 'https://en.wikipedia.org/wiki/BAFTA_Award_for_Best_Film'\n",
    "bafilmsoup = BeautifulSoup(requests.get(bafilmurl).text, 'lxml')\n",
    "bafilmtable = bafilmsoup.find_all(class_='wikitable') "
   ]
  },
  {
   "cell_type": "code",
   "execution_count": 4,
   "metadata": {
    "Collapsed": "false",
    "hidden": true
   },
   "outputs": [],
   "source": [
    "baftafilm = []\n",
    "\n",
    "for i in range(len(bafilmtable)):\n",
    "    rows = [row for row in bafilmtable[i].find_all('tr')]\n",
    "    for row in rows:\n",
    "        if len(row.find_all('th')) != 0:\n",
    "            continue\n",
    "        if len(row.find_all('td')) == 1:\n",
    "            year = row.find('td').text[:4]\n",
    "            if year == 'Best':\n",
    "                year = 2019\n",
    "            year = int(year)\n",
    "        else:\n",
    "            if len(baftafilm)<2:\n",
    "                win = True\n",
    "            elif baftafilm[-1][0] == year:\n",
    "                win = False\n",
    "            else:\n",
    "                win = True\n",
    "            link = row.find_all('a')[0]\n",
    "            baftafilm.append([year] + [link.text] + [win])"
   ]
  },
  {
   "cell_type": "code",
   "execution_count": 5,
   "metadata": {
    "Collapsed": "false",
    "hidden": true
   },
   "outputs": [],
   "source": [
    "bestfilm = pd.DataFrame(baftafilm, columns=['year_film','movie_title','bawin'])\n",
    "bestfilm['category'] = 'picture'"
   ]
  },
  {
   "cell_type": "code",
   "execution_count": 6,
   "metadata": {
    "Collapsed": "false",
    "hidden": true
   },
   "outputs": [
    {
     "data": {
      "text/html": [
       "<div>\n",
       "<style scoped>\n",
       "    .dataframe tbody tr th:only-of-type {\n",
       "        vertical-align: middle;\n",
       "    }\n",
       "\n",
       "    .dataframe tbody tr th {\n",
       "        vertical-align: top;\n",
       "    }\n",
       "\n",
       "    .dataframe thead th {\n",
       "        text-align: right;\n",
       "    }\n",
       "</style>\n",
       "<table border=\"1\" class=\"dataframe\">\n",
       "  <thead>\n",
       "    <tr style=\"text-align: right;\">\n",
       "      <th></th>\n",
       "      <th>year_film</th>\n",
       "      <th>movie_title</th>\n",
       "      <th>bawin</th>\n",
       "      <th>category</th>\n",
       "    </tr>\n",
       "  </thead>\n",
       "  <tbody>\n",
       "    <tr>\n",
       "      <th>0</th>\n",
       "      <td>1947</td>\n",
       "      <td>The Best Years of Our Lives</td>\n",
       "      <td>True</td>\n",
       "      <td>picture</td>\n",
       "    </tr>\n",
       "    <tr>\n",
       "      <th>1</th>\n",
       "      <td>1948</td>\n",
       "      <td>Hamlet</td>\n",
       "      <td>True</td>\n",
       "      <td>picture</td>\n",
       "    </tr>\n",
       "    <tr>\n",
       "      <th>2</th>\n",
       "      <td>1948</td>\n",
       "      <td>Crossfire</td>\n",
       "      <td>False</td>\n",
       "      <td>picture</td>\n",
       "    </tr>\n",
       "    <tr>\n",
       "      <th>3</th>\n",
       "      <td>1948</td>\n",
       "      <td>The Fallen Idol</td>\n",
       "      <td>False</td>\n",
       "      <td>picture</td>\n",
       "    </tr>\n",
       "    <tr>\n",
       "      <th>4</th>\n",
       "      <td>1948</td>\n",
       "      <td>Monsieur Vincent</td>\n",
       "      <td>False</td>\n",
       "      <td>picture</td>\n",
       "    </tr>\n",
       "    <tr>\n",
       "      <th>...</th>\n",
       "      <td>...</td>\n",
       "      <td>...</td>\n",
       "      <td>...</td>\n",
       "      <td>...</td>\n",
       "    </tr>\n",
       "    <tr>\n",
       "      <th>477</th>\n",
       "      <td>2019</td>\n",
       "      <td>1917</td>\n",
       "      <td>True</td>\n",
       "      <td>picture</td>\n",
       "    </tr>\n",
       "    <tr>\n",
       "      <th>478</th>\n",
       "      <td>2019</td>\n",
       "      <td>The Irishman</td>\n",
       "      <td>False</td>\n",
       "      <td>picture</td>\n",
       "    </tr>\n",
       "    <tr>\n",
       "      <th>479</th>\n",
       "      <td>2019</td>\n",
       "      <td>Joker</td>\n",
       "      <td>False</td>\n",
       "      <td>picture</td>\n",
       "    </tr>\n",
       "    <tr>\n",
       "      <th>480</th>\n",
       "      <td>2019</td>\n",
       "      <td>Once Upon a Time in Hollywood</td>\n",
       "      <td>False</td>\n",
       "      <td>picture</td>\n",
       "    </tr>\n",
       "    <tr>\n",
       "      <th>481</th>\n",
       "      <td>2019</td>\n",
       "      <td>Parasite</td>\n",
       "      <td>False</td>\n",
       "      <td>picture</td>\n",
       "    </tr>\n",
       "  </tbody>\n",
       "</table>\n",
       "<p>482 rows × 4 columns</p>\n",
       "</div>"
      ],
      "text/plain": [
       "     year_film                    movie_title  bawin category\n",
       "0         1947    The Best Years of Our Lives   True  picture\n",
       "1         1948                         Hamlet   True  picture\n",
       "2         1948                      Crossfire  False  picture\n",
       "3         1948                The Fallen Idol  False  picture\n",
       "4         1948               Monsieur Vincent  False  picture\n",
       "..         ...                            ...    ...      ...\n",
       "477       2019                           1917   True  picture\n",
       "478       2019                   The Irishman  False  picture\n",
       "479       2019                          Joker  False  picture\n",
       "480       2019  Once Upon a Time in Hollywood  False  picture\n",
       "481       2019                       Parasite  False  picture\n",
       "\n",
       "[482 rows x 4 columns]"
      ]
     },
     "execution_count": 6,
     "metadata": {},
     "output_type": "execute_result"
    }
   ],
   "source": [
    "bestfilm"
   ]
  },
  {
   "cell_type": "code",
   "execution_count": 7,
   "metadata": {
    "Collapsed": "false",
    "hidden": true
   },
   "outputs": [],
   "source": [
    "cats2 = ['Direction','Original_Screenplay','Adapted_Screenplay']\n",
    "bafta2 = {'Direction':[],'Original_Screenplay':[],'Adapted_Screenplay':[]}\n",
    "cats2dict = {'Direction':'director','Original_Screenplay':'screenplay',\n",
    "             'Adapted_Screenplay':'screenplay'}\n",
    "\n",
    "for x in cats2:\n",
    "    ba2url = f'https://en.wikipedia.org/wiki/BAFTA_Award_for_Best_{x}'\n",
    "    ba2soup = BeautifulSoup(requests.get(ba2url).text, 'lxml')\n",
    "    ba2table = ba2soup.find_all(class_='wikitable') \n",
    "\n",
    "    for i in range(len(ba2table)):\n",
    "        rows = [row for row in ba2table[i].find_all('tr')]\n",
    "        for row in rows:\n",
    "            if len(row.find_all('th')) != 0:\n",
    "                continue\n",
    "            if len(row.find_all('td')) == 1:\n",
    "                year = row.find('td').text[:4]\n",
    "                if year == 'Best':\n",
    "                    year = 2019\n",
    "                year = int(year)\n",
    "            else:\n",
    "                if len(bafta2[x])<1:\n",
    "                    win = True\n",
    "                elif bafta2[x][-1][0] == year:\n",
    "                    win = False\n",
    "                else:\n",
    "                    win = True\n",
    "                items = row.find_all('td')\n",
    "                if x == 'Direction':\n",
    "                    link = row.find_all('a')[1]\n",
    "                else:\n",
    "                    link = row.find_all('a')[0]\n",
    "                bafta2[x].append([year] + [link.text] + [win] + [cats2dict[x]])"
   ]
  },
  {
   "cell_type": "code",
   "execution_count": 8,
   "metadata": {
    "Collapsed": "false",
    "hidden": true
   },
   "outputs": [],
   "source": [
    "ba2 = bafta2['Direction']+bafta2['Original_Screenplay']+bafta2['Adapted_Screenplay']"
   ]
  },
  {
   "cell_type": "code",
   "execution_count": 9,
   "metadata": {
    "Collapsed": "false",
    "hidden": true
   },
   "outputs": [],
   "source": [
    "best_dir_and_scrply = pd.DataFrame(ba2, columns=['year_film','movie_title','bawin','category'])"
   ]
  },
  {
   "cell_type": "code",
   "execution_count": 10,
   "metadata": {
    "Collapsed": "false",
    "hidden": true
   },
   "outputs": [],
   "source": [
    "best0 = pd.concat([bestfilm,best_dir_and_scrply]).reset_index().drop(columns='index')\n",
    "best0['nominee'] = best0.movie_title"
   ]
  },
  {
   "cell_type": "code",
   "execution_count": 11,
   "metadata": {
    "Collapsed": "false",
    "hidden": true
   },
   "outputs": [],
   "source": [
    "cats3 = ['Actor_in_a_Leading_Role','Actress_in_a_Leading_Role',\n",
    "         'Actor_in_a_Supporting_Role','Actress_in_a_Supporting_Role']\n",
    "bafta3 = {'Actor_in_a_Leading_Role':[],'Actress_in_a_Leading_Role':[],\n",
    "          'Actor_in_a_Supporting_Role':[],'Actress_in_a_Supporting_Role':[]}\n",
    "cats3dict = {'Actor_in_a_Leading_Role':'actor','Actress_in_a_Leading_Role':'actress',\n",
    "             'Actor_in_a_Supporting_Role':'supporting actor',\n",
    "             'Actress_in_a_Supporting_Role':'supporting actress'}\n",
    "cats3ab = {'Actor_in_a_Leading_Role':[1,8],'Actress_in_a_Leading_Role':[0,8],\n",
    "             'Actor_in_a_Supporting_Role':[0,6],\n",
    "             'Actress_in_a_Supporting_Role':[0,6]}\n",
    "\n",
    "for x in cats3:\n",
    "    ba3url = f'https://en.wikipedia.org/wiki/BAFTA_Award_for_Best_{x}'\n",
    "    ba3soup = BeautifulSoup(requests.get(ba3url).text, 'lxml')\n",
    "    ba3table = ba3soup.find_all(class_='wikitable')\n",
    "    \n",
    "    a = cats3ab[x][0]\n",
    "    b = cats3ab[x][1]\n",
    "\n",
    "    for i in range(a,b):\n",
    "        rows = [row for row in ba3table[i].find_all('tr')]\n",
    "        for row in rows:\n",
    "            if len(row.find_all('th')) != 0:\n",
    "                continue\n",
    "            if len(row.find_all('td')) == 1:\n",
    "                text = row.find('td').text[:4]\n",
    "                if text == 'Best':\n",
    "                    cat = row.find('td').text\n",
    "                else:\n",
    "                    year = int(text)\n",
    "            else:\n",
    "                if len(bafta3[x])<1:\n",
    "                    win = True\n",
    "                elif (bafta3[x][-1][0] == year) & (bafta3[x][-1][1] == cat):\n",
    "                    win = False\n",
    "                else:\n",
    "                    win = True\n",
    "                items = row.find_all('td')\n",
    "                if len(row.find_all('a')) == 0:\n",
    "                    continue\n",
    "                actor = row.find_all('a')[0].text\n",
    "                if len(row.find_all('i')) > 0:\n",
    "                    film = row.find_all('i')[0].text\n",
    "                else:\n",
    "                    film = bafta3[x][-1][3]\n",
    "                if film == actor:\n",
    "                    actor = bafta3[x][-1][2]\n",
    "                bafta3[x].append([year] + [cat] + [actor] + [film] + [win] + [cats3dict[x]])"
   ]
  },
  {
   "cell_type": "code",
   "execution_count": 12,
   "metadata": {
    "Collapsed": "false",
    "hidden": true
   },
   "outputs": [],
   "source": [
    "ba3 = bafta3['Actor_in_a_Leading_Role'] + bafta3['Actor_in_a_Supporting_Role'] + bafta3[\n",
    "    'Actress_in_a_Leading_Role'] + bafta3['Actress_in_a_Supporting_Role']"
   ]
  },
  {
   "cell_type": "code",
   "execution_count": 13,
   "metadata": {
    "Collapsed": "false",
    "hidden": true,
    "scrolled": true
   },
   "outputs": [
    {
     "name": "stderr",
     "output_type": "stream",
     "text": [
      "/opt/anaconda3/envs/metis/lib/python3.7/site-packages/ipykernel_launcher.py:4: FutureWarning: Sorting because non-concatenation axis is not aligned. A future version\n",
      "of pandas will change to not sort by default.\n",
      "\n",
      "To accept the future behavior, pass 'sort=False'.\n",
      "\n",
      "To retain the current behavior and silence the warning, pass 'sort=True'.\n",
      "\n",
      "  after removing the cwd from sys.path.\n"
     ]
    }
   ],
   "source": [
    "best_act = pd.DataFrame(ba3, columns=[\n",
    "    'year_film','award','nominee','movie_title','bawin','category'])\n",
    "best_act.drop(columns = 'award', inplace = True)\n",
    "bafta = pd.concat([best0, best_act])"
   ]
  },
  {
   "cell_type": "code",
   "execution_count": 14,
   "metadata": {
    "Collapsed": "false",
    "hidden": true
   },
   "outputs": [],
   "source": [
    "bafta.nominee = bafta.nominee.str.lower()\n",
    "bafta.movie_title = bafta.movie_title.str.lower()"
   ]
  },
  {
   "cell_type": "markdown",
   "metadata": {
    "Collapsed": "false"
   },
   "source": [
    "# Guild"
   ]
  },
  {
   "cell_type": "markdown",
   "metadata": {
    "Collapsed": "true",
    "heading_collapsed": true
   },
   "source": [
    "## DGA"
   ]
  },
  {
   "cell_type": "code",
   "execution_count": 15,
   "metadata": {
    "Collapsed": "false",
    "hidden": true
   },
   "outputs": [],
   "source": [
    "dgaurl = 'https://en.wikipedia.org/wiki/Directors_Guild_of_America_Award_for_Outstanding_Directing_–_Feature_Film'\n",
    "dgasoup = BeautifulSoup(requests.get(dgaurl).text, 'lxml')\n",
    "dgatable = dgasoup.find_all(class_='wikitable') "
   ]
  },
  {
   "cell_type": "code",
   "execution_count": 16,
   "metadata": {
    "Collapsed": "false",
    "hidden": true
   },
   "outputs": [],
   "source": [
    "dgadir = []\n",
    "\n",
    "for i in range(len(dgatable)):\n",
    "    rows = [row for row in dgatable[i].find_all('tr')]\n",
    "    for row in rows:\n",
    "        if len(row.find_all('th')) != 0:\n",
    "            continue\n",
    "        if len(row.find_all('td')) == 4:\n",
    "            year = row.find('td').text[:4]\n",
    "            year = int(year)\n",
    "            link = row.find_all('a')[2]\n",
    "            win = True\n",
    "        else:\n",
    "            link = row.find_all('a')[1]\n",
    "            win = False\n",
    "        dgadir.append([year] + [link.text] + [win])"
   ]
  },
  {
   "cell_type": "code",
   "execution_count": 17,
   "metadata": {
    "Collapsed": "false",
    "hidden": true
   },
   "outputs": [],
   "source": [
    "dga = pd.DataFrame(dgadir, columns=['year_film','movie_title','guildwin'])\n",
    "dga['category'] = 'director'"
   ]
  },
  {
   "cell_type": "markdown",
   "metadata": {
    "Collapsed": "true",
    "heading_collapsed": true
   },
   "source": [
    "## PGA"
   ]
  },
  {
   "cell_type": "code",
   "execution_count": 18,
   "metadata": {
    "Collapsed": "false",
    "hidden": true
   },
   "outputs": [],
   "source": [
    "pgaurl = 'https://en.wikipedia.org/wiki/Producers_Guild_of_America_Award_for_Best_Theatrical_Motion_Picture'\n",
    "pgasoup = BeautifulSoup(requests.get(pgaurl).text, 'lxml')\n",
    "pgatable = pgasoup.find_all(class_='wikitable') "
   ]
  },
  {
   "cell_type": "code",
   "execution_count": 19,
   "metadata": {
    "Collapsed": "false",
    "hidden": true
   },
   "outputs": [],
   "source": [
    "pgafilm = []\n",
    "\n",
    "for i in range(4):\n",
    "    rows = [row for row in pgatable[i].find_all('tr')]\n",
    "    for row in rows:\n",
    "        if len(row.find_all('th')) != 0:\n",
    "            continue\n",
    "        if len(row.find_all('td')) == 4:\n",
    "            year = row.find('td').text[:4]\n",
    "            year = int(year)\n",
    "            link = row.find_all('a')[1]\n",
    "            win = True\n",
    "        else:\n",
    "            link = row.find_all('a')[0]\n",
    "            win = False\n",
    "        pgafilm.append([year] + [link.text] + [win])"
   ]
  },
  {
   "cell_type": "code",
   "execution_count": 20,
   "metadata": {
    "Collapsed": "false",
    "hidden": true
   },
   "outputs": [],
   "source": [
    "pga = pd.DataFrame(pgafilm, columns=['year_film','movie_title','guildwin'])\n",
    "pga['category'] = 'picture'"
   ]
  },
  {
   "cell_type": "markdown",
   "metadata": {
    "Collapsed": "true",
    "heading_collapsed": true
   },
   "source": [
    "## WGA"
   ]
  },
  {
   "cell_type": "code",
   "execution_count": 21,
   "metadata": {
    "Collapsed": "false",
    "hidden": true
   },
   "outputs": [],
   "source": [
    "wgacats = ['Adapted','Original']\n",
    "wgadict = {'Adapted':[],'Original':[]}\n",
    "\n",
    "for x in wgacats:\n",
    "    wgaurl = f'https://en.wikipedia.org/wiki/Writers_Guild_of_America_Award_for_Best_{x}_Screenplay'\n",
    "    wgasoup = BeautifulSoup(requests.get(wgaurl).text, 'lxml')\n",
    "    wgatable = wgasoup.find_all(class_='wikitable') \n",
    "\n",
    "    for i in range(len(wgatable)):\n",
    "        rows = [row for row in wgatable[i].find_all('tr')]           \n",
    "        for row in rows:\n",
    "            if len(row.find_all('td')) == 1:\n",
    "                year = row.find('a').text\n",
    "                year = int(year)\n",
    "                if row.find('th') != None:\n",
    "                    cat = row.find('th').text\n",
    "            elif len(row.find_all('td')) == 3:\n",
    "                year = row.find('a').text\n",
    "                year = int(year)\n",
    "                link = row.find_all('a')[3]\n",
    "                win = True\n",
    "                wgadict[x].append([year] + [cat] + [link.text] + [win])\n",
    "            elif len(row.find_all('th')) == 1:\n",
    "                cat = row.find('th').text\n",
    "            elif len(row.find_all('th')) > 1:\n",
    "                pass\n",
    "            else:\n",
    "                link = row.find_all('a')[0]\n",
    "                if len(wgadict[x])<1:\n",
    "                    win = True\n",
    "                elif (wgadict[x][-1][0] == year) & (wgadict[x][-1][1] == cat):\n",
    "                    win = False\n",
    "                else:\n",
    "                    win = True\n",
    "                wgadict[x].append([year] + [cat] + [link.text] + [win])"
   ]
  },
  {
   "cell_type": "code",
   "execution_count": 22,
   "metadata": {
    "Collapsed": "false",
    "hidden": true,
    "scrolled": true
   },
   "outputs": [],
   "source": [
    "wgascrply = wgadict['Adapted'] + wgadict['Original']"
   ]
  },
  {
   "cell_type": "code",
   "execution_count": 23,
   "metadata": {
    "Collapsed": "false",
    "hidden": true
   },
   "outputs": [],
   "source": [
    "wga = pd.DataFrame(wgascrply, columns=['year_film','type','movie_title','guildwin'])\n",
    "wga['category'] = 'screenplay'\n",
    "wga.drop(columns='type',inplace=True)"
   ]
  },
  {
   "cell_type": "markdown",
   "metadata": {
    "Collapsed": "true",
    "heading_collapsed": true
   },
   "source": [
    "## SAG"
   ]
  },
  {
   "cell_type": "code",
   "execution_count": 35,
   "metadata": {
    "Collapsed": "false",
    "hidden": true
   },
   "outputs": [
    {
     "name": "stderr",
     "output_type": "stream",
     "text": [
      "/opt/anaconda3/envs/metis/lib/python3.7/site-packages/pandas/core/indexing.py:205: SettingWithCopyWarning: \n",
      "A value is trying to be set on a copy of a slice from a DataFrame\n",
      "\n",
      "See the caveats in the documentation: http://pandas.pydata.org/pandas-docs/stable/user_guide/indexing.html#returning-a-view-versus-a-copy\n",
      "  self._setitem_with_indexer(indexer, value)\n"
     ]
    }
   ],
   "source": [
    "sag = pd.read_csv('screen_actor_guild_awards.csv')\n",
    "sag.columns = ['year_film', 'category', 'nominee', 'movie_title', 'sagwin']\n",
    "sag.year_film.iloc[5756] = '2018'\n",
    "sag.movie_title.iloc[5756] = 'roman j israel esq'\n",
    "sag = sag.iloc[:5757]\n",
    "sag.year_film = sag['year_film'].str.split(' - ').str[0].astype(int) - 1"
   ]
  },
  {
   "cell_type": "code",
   "execution_count": 42,
   "metadata": {
    "Collapsed": "false",
    "hidden": true
   },
   "outputs": [
    {
     "name": "stderr",
     "output_type": "stream",
     "text": [
      "/opt/anaconda3/envs/metis/lib/python3.7/site-packages/ipykernel_launcher.py:4: SettingWithCopyWarning: \n",
      "A value is trying to be set on a copy of a slice from a DataFrame\n",
      "\n",
      "See the caveats in the documentation: http://pandas.pydata.org/pandas-docs/stable/user_guide/indexing.html#returning-a-view-versus-a-copy\n",
      "  after removing the cwd from sys.path.\n",
      "/opt/anaconda3/envs/metis/lib/python3.7/site-packages/ipykernel_launcher.py:6: SettingWithCopyWarning: \n",
      "A value is trying to be set on a copy of a slice from a DataFrame\n",
      "\n",
      "See the caveats in the documentation: http://pandas.pydata.org/pandas-docs/stable/user_guide/indexing.html#returning-a-view-versus-a-copy\n",
      "  \n",
      "/opt/anaconda3/envs/metis/lib/python3.7/site-packages/ipykernel_launcher.py:8: SettingWithCopyWarning: \n",
      "A value is trying to be set on a copy of a slice from a DataFrame\n",
      "\n",
      "See the caveats in the documentation: http://pandas.pydata.org/pandas-docs/stable/user_guide/indexing.html#returning-a-view-versus-a-copy\n",
      "  \n",
      "/opt/anaconda3/envs/metis/lib/python3.7/site-packages/ipykernel_launcher.py:11: SettingWithCopyWarning: \n",
      "A value is trying to be set on a copy of a slice from a DataFrame\n",
      "\n",
      "See the caveats in the documentation: http://pandas.pydata.org/pandas-docs/stable/user_guide/indexing.html#returning-a-view-versus-a-copy\n",
      "  # This is added back by InteractiveShellApp.init_path()\n"
     ]
    }
   ],
   "source": [
    "thedict = {'female':'actress','male':'actor','makeup':'makeup','star of the year':'new',\n",
    "           'award':'honorary','achievement':'honorary','stunt':'stunt','cast':'picture'}\n",
    "\n",
    "sag.category[sag.category.str.find('series')>-1] = 'tv'\n",
    "sag.category[(sag.category.str.find('female')>-1) &\n",
    "             (sag.category.str.find('support')>-1)] = 'supporting actress'\n",
    "sag.category[(sag.category.str.find('male')>-1) &\n",
    "             (sag.category.str.find('support')>-1)] = 'supporting actor'\n",
    "\n",
    "for old in thedict:\n",
    "    sag.category[sag.category.str.find(old)>-1] = thedict[old]"
   ]
  },
  {
   "cell_type": "markdown",
   "metadata": {
    "Collapsed": "true",
    "heading_collapsed": true
   },
   "source": [
    "## Clean and Export"
   ]
  },
  {
   "cell_type": "code",
   "execution_count": 37,
   "metadata": {
    "Collapsed": "false",
    "hidden": true
   },
   "outputs": [],
   "source": [
    "all_lowercase(sag)\n",
    "all_lowercase(dga)\n",
    "all_lowercase(pga)\n",
    "all_lowercase(wga)"
   ]
  },
  {
   "cell_type": "code",
   "execution_count": 38,
   "metadata": {
    "Collapsed": "false",
    "hidden": true
   },
   "outputs": [],
   "source": [
    "sag.nominee = sag.nominee.str.lower().str.replace('.','')"
   ]
  },
  {
   "cell_type": "code",
   "execution_count": 39,
   "metadata": {
    "Collapsed": "false",
    "hidden": true
   },
   "outputs": [],
   "source": [
    "dga.movie_title = dga.movie_title.str.replace(', ',' ').str.replace('.','').str.replace('  ',' ')\n",
    "pga.movie_title = pga.movie_title.str.replace(', ',' ').str.replace('.','').str.replace('  ',' ')\n",
    "wga.movie_title = wga.movie_title.str.replace(', ',' ').str.replace('.','').str.replace('  ',' ')"
   ]
  },
  {
   "cell_type": "code",
   "execution_count": 40,
   "metadata": {
    "Collapsed": "false",
    "hidden": true
   },
   "outputs": [],
   "source": [
    "for row in range(len(sag)):\n",
    "    if sag.category[row] == 'picture':\n",
    "        sag.nominee[row] = sag.movie_title[row]"
   ]
  },
  {
   "cell_type": "code",
   "execution_count": 41,
   "metadata": {
    "Collapsed": "false",
    "hidden": true
   },
   "outputs": [],
   "source": [
    "dga['nominee'] = dga['movie_title']\n",
    "wga['nominee'] = wga['movie_title']\n",
    "pga['nominee'] = pga['movie_title']"
   ]
  },
  {
   "cell_type": "markdown",
   "metadata": {
    "Collapsed": "false",
    "heading_collapsed": true
   },
   "source": [
    "# Export to CSV"
   ]
  },
  {
   "cell_type": "code",
   "execution_count": 51,
   "metadata": {
    "Collapsed": "false",
    "hidden": true
   },
   "outputs": [],
   "source": [
    "# dga.to_csv('data/dga.csv',index=False)\n",
    "# wga.to_csv('data/wga.csv',index=False)\n",
    "# pga.to_csv('data/pga.csv',index=False)\n",
    "# sag.to_csv('data/sag.csv',index=False)\n",
    "# bafta.to_csv('data/bafta.csv',index=False)"
   ]
  },
  {
   "cell_type": "code",
   "execution_count": null,
   "metadata": {
    "Collapsed": "false",
    "hidden": true
   },
   "outputs": [],
   "source": []
  }
 ],
 "metadata": {
  "kernelspec": {
   "display_name": "Python [conda env:metis] *",
   "language": "python",
   "name": "conda-env-metis-py"
  },
  "language_info": {
   "codemirror_mode": {
    "name": "ipython",
    "version": 3
   },
   "file_extension": ".py",
   "mimetype": "text/x-python",
   "name": "python",
   "nbconvert_exporter": "python",
   "pygments_lexer": "ipython3",
   "version": "3.7.4"
  },
  "toc": {
   "base_numbering": 1,
   "nav_menu": {},
   "number_sections": true,
   "sideBar": true,
   "skip_h1_title": false,
   "title_cell": "Table of Contents",
   "title_sidebar": "Contents",
   "toc_cell": false,
   "toc_position": {},
   "toc_section_display": true,
   "toc_window_display": false
  }
 },
 "nbformat": 4,
 "nbformat_minor": 4
}
