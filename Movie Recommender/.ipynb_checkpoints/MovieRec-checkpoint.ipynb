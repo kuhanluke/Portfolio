{
 "cells": [
  {
   "cell_type": "code",
   "execution_count": 1,
   "metadata": {},
   "outputs": [],
   "source": [
    "import pandas as pd\n",
    "import numpy as np\n",
    "import json"
   ]
  },
  {
   "cell_type": "markdown",
   "metadata": {},
   "source": [
    "# JSONify"
   ]
  },
  {
   "cell_type": "code",
   "execution_count": 2,
   "metadata": {
    "scrolled": true
   },
   "outputs": [
    {
     "name": "stderr",
     "output_type": "stream",
     "text": [
      "/opt/anaconda3/envs/metis/lib/python3.7/site-packages/IPython/core/interactiveshell.py:3051: DtypeWarning: Columns (10) have mixed types. Specify dtype option on import or set low_memory=False.\n",
      "  interactivity=interactivity, compiler=compiler, result=result)\n"
     ]
    }
   ],
   "source": [
    "metadata = pd.read_csv('movies_metadata.csv')\n",
    "credits = pd.read_csv('credits.csv')"
   ]
  },
  {
   "cell_type": "code",
   "execution_count": 3,
   "metadata": {},
   "outputs": [],
   "source": [
    "metadata = metadata[(metadata.adult == 'False') &\n",
    "                (metadata.status == 'Released') &\n",
    "                (metadata.original_language == 'en') &\n",
    "                (metadata.spoken_languages != '[]') &\n",
    "                (metadata.genres != '[]')\n",
    "            #        (metadata.revenue > 0)\n",
    "                ].drop(columns = ['adult','status','original_language',\n",
    "                                    'homepage','belongs_to_collection','poster_path',\n",
    "                                    'production_countries', #'spoken_languages',\n",
    "                                    'video','vote_count', 'budget', 'revenue', \n",
    "                                    'popularity', 'vote_average'\n",
    "                                   ])"
   ]
  },
  {
   "cell_type": "code",
   "execution_count": 4,
   "metadata": {},
   "outputs": [],
   "source": [
    "metadata.original_title = metadata.original_title.str.lower()\n",
    "metadata.title = metadata.title.str.lower()\n",
    "metadata.overview = metadata.overview.str.lower()\n",
    "metadata.tagline = metadata.tagline.str.lower()\n",
    "metadata.id = metadata.id.astype(int)"
   ]
  },
  {
   "cell_type": "code",
   "execution_count": 5,
   "metadata": {},
   "outputs": [],
   "source": [
    "metadata.set_index(['id','title'],inplace=True)\n",
    "metadata.reset_index(inplace=True)"
   ]
  },
  {
   "cell_type": "code",
   "execution_count": 6,
   "metadata": {
    "scrolled": true
   },
   "outputs": [],
   "source": [
    "nonenglish = []\n",
    "for i in range(len(metadata.spoken_languages)):\n",
    "    if (metadata.spoken_languages.iloc[i])[:19] != \"[{'iso_639_1': 'en'\":\n",
    "        nonenglish.append(i)\n",
    "for i in nonenglish:\n",
    "    metadata.drop(i,inplace=True)"
   ]
  },
  {
   "cell_type": "code",
   "execution_count": 7,
   "metadata": {},
   "outputs": [],
   "source": [
    "def stringtodict(x):\n",
    "    if x == '[]':\n",
    "        xx = []\n",
    "        return xx\n",
    "    else:\n",
    "        xx = x.lower().replace(r'\"',r\"'\").replace(r\"'name': '\",r'\"name\": \"').replace(\n",
    "            r\"'iso_639_1': '\", r'\"iso_639_1\": \"').replace(r\"'id':\",r'\"id\":').replace(\n",
    "            r\"'}\",r'\"}').replace(r\"',\",r'\",').replace(r'\\xa0', r'').replace(r'\\x9akai',r'u')\n",
    "        return json.loads(xx)\n",
    "\n",
    "def stringtolist(x):\n",
    "    y = stringtodict(x)\n",
    "    thelist = []\n",
    "    for z in y:\n",
    "        thelist.append(z['name'])\n",
    "    return thelist"
   ]
  },
  {
   "cell_type": "code",
   "execution_count": 9,
   "metadata": {},
   "outputs": [],
   "source": [
    "metadata.genres = metadata.genres.apply(stringtolist)\n",
    "metadata.production_companies = metadata.production_companies.apply(stringtolist)\n",
    "metadata.spoken_languages = metadata.spoken_languages.apply(stringtolist)"
   ]
  },
  {
   "cell_type": "code",
   "execution_count": 21,
   "metadata": {},
   "outputs": [],
   "source": [
    "films = pd.merge(credits,metadata)"
   ]
  },
  {
   "cell_type": "code",
   "execution_count": 22,
   "metadata": {},
   "outputs": [],
   "source": [
    "def casttodict(x):\n",
    "    d = {}\n",
    "    exec('y = ' + x, d)\n",
    "    return d['y']\n",
    "def casttolist(x):\n",
    "    y = casttodict(x)\n",
    "    castlist = []\n",
    "    for z in y:\n",
    "        castlist.append(z['name'])\n",
    "    return list(set(castlist))"
   ]
  },
  {
   "cell_type": "code",
   "execution_count": 23,
   "metadata": {},
   "outputs": [],
   "source": [
    "films.cast = films.cast.apply(casttolist)\n",
    "films.crew = films.crew.apply(casttolist)\n",
    "films.release_date = pd.to_datetime(films.release_date)"
   ]
  },
  {
   "cell_type": "code",
   "execution_count": 25,
   "metadata": {},
   "outputs": [],
   "source": [
    "mdata = films[['id','title','original_title','cast','crew',\n",
    "               'overview','production_companies','runtime','release_date']]"
   ]
  },
  {
   "cell_type": "code",
   "execution_count": 26,
   "metadata": {},
   "outputs": [],
   "source": [
    "mdata.to_json(r'movies.json')\n",
    "mdata.to_csv(r'movies.csv')"
   ]
  },
  {
   "cell_type": "markdown",
   "metadata": {},
   "source": [
    "# "
   ]
  },
  {
   "cell_type": "code",
   "execution_count": 27,
   "metadata": {},
   "outputs": [],
   "source": [
    "movies = pd.read_json('movies.json')\n",
    "movies.release_date = pd.to_datetime(movies.release_date * 1000000)"
   ]
  },
  {
   "cell_type": "code",
   "execution_count": null,
   "metadata": {},
   "outputs": [],
   "source": []
  }
 ],
 "metadata": {
  "kernelspec": {
   "display_name": "Python [conda env:metis] *",
   "language": "python",
   "name": "conda-env-metis-py"
  },
  "language_info": {
   "codemirror_mode": {
    "name": "ipython",
    "version": 3
   },
   "file_extension": ".py",
   "mimetype": "text/x-python",
   "name": "python",
   "nbconvert_exporter": "python",
   "pygments_lexer": "ipython3",
   "version": "3.7.4"
  },
  "toc": {
   "base_numbering": 1,
   "nav_menu": {},
   "number_sections": true,
   "sideBar": true,
   "skip_h1_title": false,
   "title_cell": "Table of Contents",
   "title_sidebar": "Contents",
   "toc_cell": false,
   "toc_position": {},
   "toc_section_display": true,
   "toc_window_display": false
  }
 },
 "nbformat": 4,
 "nbformat_minor": 2
}
