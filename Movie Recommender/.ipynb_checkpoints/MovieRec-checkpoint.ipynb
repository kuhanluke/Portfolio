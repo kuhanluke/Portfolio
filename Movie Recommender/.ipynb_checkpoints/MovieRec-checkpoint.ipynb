{
 "cells": [
  {
   "cell_type": "code",
   "execution_count": 1,
   "metadata": {
    "Collapsed": "false"
   },
   "outputs": [],
   "source": [
    "import pandas as pd\n",
    "import numpy as np\n",
    "\n",
    "import json\n",
    "import datetime\n",
    "\n",
    "from rake_nltk import Rake\n",
    "from nltk.stem import SnowballStemmer,PorterStemmer,LancasterStemmer\n",
    "from nltk import WordNetLemmatizer\n",
    "\n",
    "from sklearn.metrics.pairwise import cosine_similarity, linear_kernel\n",
    "from sklearn.feature_extraction import text\n",
    "from sklearn.feature_extraction.text import TfidfVectorizer, CountVectorizer\n",
    "from sklearn.preprocessing import StandardScaler"
   ]
  },
  {
   "cell_type": "markdown",
   "metadata": {
    "Collapsed": "false"
   },
   "source": [
    "# Clean and JSONify"
   ]
  },
  {
   "cell_type": "code",
   "execution_count": 2,
   "metadata": {
    "Collapsed": "false",
    "scrolled": true
   },
   "outputs": [
    {
     "name": "stderr",
     "output_type": "stream",
     "text": [
      "/opt/anaconda3/envs/metis/lib/python3.7/site-packages/IPython/core/interactiveshell.py:3051: DtypeWarning: Columns (10) have mixed types. Specify dtype option on import or set low_memory=False.\n",
      "  interactivity=interactivity, compiler=compiler, result=result)\n"
     ]
    }
   ],
   "source": [
    "metadata = pd.read_csv('movies_metadata.csv')\n",
    "credits = pd.read_csv('credits.csv')"
   ]
  },
  {
   "cell_type": "code",
   "execution_count": 3,
   "metadata": {
    "Collapsed": "false"
   },
   "outputs": [],
   "source": [
    "metadata = metadata[(metadata.adult == 'False') &\n",
    "                ((metadata.status == 'Released') | (metadata.status == 'Post Production')) &\n",
    "                (metadata.video == False) &\n",
    "                (metadata.spoken_languages != '[]') &\n",
    "                (metadata.genres != '[]')\n",
    "                ].drop(columns = ['adult','status','original_language',\n",
    "                                    'homepage', 'video','vote_count', 'budget', \n",
    "                                    'popularity'\n",
    "                                   ])"
   ]
  },
  {
   "cell_type": "code",
   "execution_count": 4,
   "metadata": {
    "Collapsed": "false"
   },
   "outputs": [],
   "source": [
    "metadata['poster'] = 'https://image.tmdb.org/t/p/w1280' + metadata.poster_path"
   ]
  },
  {
   "cell_type": "code",
   "execution_count": 5,
   "metadata": {
    "Collapsed": "false"
   },
   "outputs": [],
   "source": [
    "metadata.original_title = metadata.original_title.str.lower()\n",
    "metadata.overview = metadata.overview.str.lower()\n",
    "metadata.tagline = metadata.tagline.str.lower()\n",
    "metadata.id = metadata.id.astype(int)\n",
    "\n",
    "metadata.tagline.fillna('',inplace=True)\n",
    "metadata['desc'] = metadata.overview\n",
    "\n",
    "metadata.set_index(['id','title'],inplace=True)\n",
    "metadata.reset_index(inplace=True)"
   ]
  },
  {
   "cell_type": "code",
   "execution_count": 6,
   "metadata": {
    "Collapsed": "false"
   },
   "outputs": [],
   "source": [
    "def showmeyourdict(x):\n",
    "    if x == '[]':\n",
    "        xx = []\n",
    "        return xx\n",
    "    else:\n",
    "        d = {}\n",
    "        exec('y = ' + x, d)\n",
    "        return d['y']\n",
    "\n",
    "def stringtolist(x):\n",
    "    y = showmeyourdict(x)\n",
    "    thelist = []\n",
    "    for z in y:\n",
    "        thelist.append(z['name'].lower().replace(' ', '').replace('.',''))\n",
    "    return thelist"
   ]
  },
  {
   "cell_type": "code",
   "execution_count": 7,
   "metadata": {
    "Collapsed": "false"
   },
   "outputs": [],
   "source": [
    "metadata.genres = metadata.genres.apply(stringtolist)\n",
    "metadata.production_companies = metadata.production_companies.apply(stringtolist)\n",
    "metadata.production_countries = metadata.production_countries.apply(stringtolist)\n",
    "metadata.spoken_languages = metadata.spoken_languages.apply(stringtolist)"
   ]
  },
  {
   "cell_type": "code",
   "execution_count": 9,
   "metadata": {
    "Collapsed": "false"
   },
   "outputs": [],
   "source": [
    "metadata.belongs_to_collection.fillna(\"{'id': 10194, 'name': None, 'poster_path': '/7G9915LfUQ2lVfwMEEhDsn3kT4B.jpg', 'backdrop_path': '/9FBwqcd9IRruEDUrTdcaafOMKUq.jpg'}\",inplace=True)\n",
    "metadata.belongs_to_collection = metadata.belongs_to_collection.apply(showmeyourdict)\n",
    "\n",
    "btc = []\n",
    "for row in metadata.belongs_to_collection:\n",
    "    btc.append(row['name'])\n",
    "\n",
    "metadata.belongs_to_collection = btc"
   ]
  },
  {
   "cell_type": "code",
   "execution_count": 10,
   "metadata": {
    "Collapsed": "false"
   },
   "outputs": [],
   "source": [
    "metadata = metadata[((metadata.spoken_languages.str[0] == 'english') | \n",
    "                    (metadata.spoken_languages.str[1] == 'english')) &\n",
    "                    ((metadata.production_countries.str[0] == 'unitedstatesofamerica') | \n",
    "                     (metadata.production_countries.str[1] == 'unitedstatesofamerica') |\n",
    "                     (metadata.production_countries.str[2] == 'unitedstatesofamerica') |\n",
    "                     (metadata.production_countries.str[3] == 'unitedstatesofamerica') |\n",
    "                     (metadata.production_countries.str[4] == 'unitedstatesofamerica') |\n",
    "                     (metadata.production_countries.str[0] == 'unitedkingdom') |\n",
    "                     (metadata.production_countries.str[1] == 'unitedkingdom') |\n",
    "                     (metadata.production_countries.str[2] == 'unitedkingdom') |\n",
    "                     (metadata.production_countries.str[3] == 'unitedkingdom') |\n",
    "                     (metadata.production_countries.str[4] == 'unitedkingdom') |\n",
    "                     (metadata.production_countries.str[0] == 'canada') |\n",
    "                     (metadata.production_countries.str[1] == 'canada') |\n",
    "                     (metadata.production_countries.str[2] == 'canada') \n",
    "                    )\n",
    "                   ]"
   ]
  },
  {
   "cell_type": "code",
   "execution_count": 11,
   "metadata": {
    "Collapsed": "false"
   },
   "outputs": [],
   "source": [
    "def casttodict(x):\n",
    "    d = {}\n",
    "    exec('y = ' + x, d)\n",
    "    return d['y']\n",
    "def casttolist(x):\n",
    "    y = casttodict(x)\n",
    "    castlist = []\n",
    "    for z in y:\n",
    "        castlist.append(z['name'].lower().replace(' ','').replace('.',''))\n",
    "    return castlist[:10]\n",
    "def chartolist(x):\n",
    "    y = casttodict(x)\n",
    "    charlist = []\n",
    "    for z in y:\n",
    "        charlist.append(z['character'].lower().replace('.','').replace(' (voice)','').strip())\n",
    "    return charlist\n",
    "def crewtolist(x):\n",
    "    y = casttodict(x)\n",
    "    castlist = [x['name'].lower().replace(' ','').replace('.','') for x in y if x['job'] == 'Director' or x['job'] == 'Screenplay' or x['job'] == 'Original Story']\n",
    "    return castlist"
   ]
  },
  {
   "cell_type": "code",
   "execution_count": 12,
   "metadata": {
    "Collapsed": "false"
   },
   "outputs": [],
   "source": [
    "films = pd.merge(credits,metadata)"
   ]
  },
  {
   "cell_type": "code",
   "execution_count": 13,
   "metadata": {
    "Collapsed": "false"
   },
   "outputs": [],
   "source": [
    "films['chara'] = films.cast.apply(chartolist)\n",
    "films.cast = films.cast.apply(casttolist)\n",
    "films.crew = films.crew.apply(crewtolist)\n",
    "films.release_date = pd.to_datetime(films.release_date)"
   ]
  },
  {
   "cell_type": "code",
   "execution_count": 14,
   "metadata": {
    "Collapsed": "false"
   },
   "outputs": [
    {
     "name": "stderr",
     "output_type": "stream",
     "text": [
      "/opt/anaconda3/envs/metis/lib/python3.7/site-packages/ipykernel_launcher.py:5: FutureWarning: set_value is deprecated and will be removed in a future release. Please use .at[] or .iat[] accessors instead\n",
      "  \"\"\"\n"
     ]
    }
   ],
   "source": [
    "for row in films.itertuples():\n",
    "    if row.release_date > pd.datetime(2017, 1, 1) :\n",
    "        if row.revenue == 0.0:\n",
    "            if row.runtime > 90:\n",
    "                films.set_value(row.Index,'revenue',10000000)"
   ]
  },
  {
   "cell_type": "code",
   "execution_count": 15,
   "metadata": {
    "Collapsed": "false"
   },
   "outputs": [
    {
     "data": {
      "text/plain": [
       "18416   2017-03-10\n",
       "18836   2017-03-31\n",
       "19113   2017-04-14\n",
       "21521   2017-05-23\n",
       "21649   2017-06-12\n",
       "           ...    \n",
       "23348   2017-07-18\n",
       "23352   2017-07-21\n",
       "23355   2017-04-28\n",
       "23362   2017-02-03\n",
       "23392   2017-08-01\n",
       "Name: release_date, Length: 138, dtype: datetime64[ns]"
      ]
     },
     "execution_count": 15,
     "metadata": {},
     "output_type": "execute_result"
    }
   ],
   "source": [
    "films[(films.release_date.dt.year == 2017) & (films.revenue == 10000000)].release_date"
   ]
  },
  {
   "cell_type": "code",
   "execution_count": 16,
   "metadata": {
    "Collapsed": "false"
   },
   "outputs": [],
   "source": [
    "charac = []\n",
    "for row in range(len(films)):\n",
    "    mc = []\n",
    "    for x in films.chara.iloc[row]:\n",
    "        mc = mc + x.split(' ')\n",
    "    charac.append(mc)\n",
    "\n",
    "films.chara = charac"
   ]
  },
  {
   "cell_type": "code",
   "execution_count": 17,
   "metadata": {
    "Collapsed": "false"
   },
   "outputs": [],
   "source": [
    "films = films[(films.revenue > 5000000)]"
   ]
  },
  {
   "cell_type": "code",
   "execution_count": 18,
   "metadata": {
    "Collapsed": "false"
   },
   "outputs": [],
   "source": [
    "mdata = films[['id','title','cast', 'chara', 'crew', 'genres', 'imdb_id','poster_path',\n",
    "               'desc','production_companies','runtime','release_date','vote_average','belongs_to_collection']]\n",
    "\n",
    "mdata = mdata[mdata.desc.isnull() == False].reset_index().drop(columns='index')"
   ]
  },
  {
   "cell_type": "code",
   "execution_count": 19,
   "metadata": {
    "Collapsed": "false"
   },
   "outputs": [
    {
     "data": {
      "text/html": [
       "<div>\n",
       "<style scoped>\n",
       "    .dataframe tbody tr th:only-of-type {\n",
       "        vertical-align: middle;\n",
       "    }\n",
       "\n",
       "    .dataframe tbody tr th {\n",
       "        vertical-align: top;\n",
       "    }\n",
       "\n",
       "    .dataframe thead th {\n",
       "        text-align: right;\n",
       "    }\n",
       "</style>\n",
       "<table border=\"1\" class=\"dataframe\">\n",
       "  <thead>\n",
       "    <tr style=\"text-align: right;\">\n",
       "      <th></th>\n",
       "      <th>id</th>\n",
       "      <th>title</th>\n",
       "      <th>cast</th>\n",
       "      <th>chara</th>\n",
       "      <th>crew</th>\n",
       "      <th>genres</th>\n",
       "      <th>imdb_id</th>\n",
       "      <th>poster</th>\n",
       "      <th>desc</th>\n",
       "      <th>production_companies</th>\n",
       "      <th>runtime</th>\n",
       "      <th>release_date</th>\n",
       "      <th>vote_average</th>\n",
       "      <th>belongs_to_collection</th>\n",
       "    </tr>\n",
       "  </thead>\n",
       "  <tbody>\n",
       "    <tr>\n",
       "      <th>4005</th>\n",
       "      <td>166426</td>\n",
       "      <td>Pirates of the Caribbean: Dead Men Tell No Tales</td>\n",
       "      <td>[johnnydepp, javierbardem, geoffreyrush, brent...</td>\n",
       "      <td>[captain, jack, sparrow, captain, armando, sal...</td>\n",
       "      <td>[jeffnathanson, joachimrønning, espensandberg]</td>\n",
       "      <td>[adventure, action, fantasy, comedy]</td>\n",
       "      <td>tt1790809</td>\n",
       "      <td>https://image.tmdb.org/t/p/w300/xbpSDU3p7YUGlu...</td>\n",
       "      <td>thrust into an all-new paycheck, a down-on-his...</td>\n",
       "      <td>[waltdisneypictures, jerrybruckheimerfilms, in...</td>\n",
       "      <td>129.0</td>\n",
       "      <td>2017-05-23</td>\n",
       "      <td>6.6</td>\n",
       "      <td>Pirates of the Caribbean Collection</td>\n",
       "    </tr>\n",
       "    <tr>\n",
       "      <th>4009</th>\n",
       "      <td>283995</td>\n",
       "      <td>Guardians of the Galaxy Vol. 2</td>\n",
       "      <td>[chrispratt, zoesaldana, davebautista, vindies...</td>\n",
       "      <td>[peter, quill, /, star-lord, gamora, drax, the...</td>\n",
       "      <td>[jamesgunn]</td>\n",
       "      <td>[action, adventure, comedy, sciencefiction]</td>\n",
       "      <td>tt3896198</td>\n",
       "      <td>https://image.tmdb.org/t/p/w300/y4MBh0EjBlMuOz...</td>\n",
       "      <td>the guardians must fight to keep their newfoun...</td>\n",
       "      <td>[waltdisneypictures, marvelstudios]</td>\n",
       "      <td>137.0</td>\n",
       "      <td>2017-04-19</td>\n",
       "      <td>7.6</td>\n",
       "      <td>Guardians of the Galaxy Collection</td>\n",
       "    </tr>\n",
       "    <tr>\n",
       "      <th>4144</th>\n",
       "      <td>306943</td>\n",
       "      <td>The Outcasts</td>\n",
       "      <td>[victoriajustice, edensher, ashleyrickards, av...</td>\n",
       "      <td>[jodi, watson, mindy, goldman, virginia, doe, ...</td>\n",
       "      <td>[peterhutchings]</td>\n",
       "      <td>[comedy]</td>\n",
       "      <td>tt2597760</td>\n",
       "      <td>https://image.tmdb.org/t/p/w300/44jotbmLRwHSIc...</td>\n",
       "      <td>after falling victim to a humiliating prank by...</td>\n",
       "      <td>[bcdfpictures]</td>\n",
       "      <td>95.0</td>\n",
       "      <td>2017-04-14</td>\n",
       "      <td>7.1</td>\n",
       "      <td>None</td>\n",
       "    </tr>\n",
       "    <tr>\n",
       "      <th>4157</th>\n",
       "      <td>297762</td>\n",
       "      <td>Wonder Woman</td>\n",
       "      <td>[galgadot, chrispine, robinwright, dannyhuston...</td>\n",
       "      <td>[wonder, woman, /, diana, prince, steve, trevo...</td>\n",
       "      <td>[pattyjenkins, allanheinberg]</td>\n",
       "      <td>[action, adventure, fantasy]</td>\n",
       "      <td>tt0451279</td>\n",
       "      <td>https://image.tmdb.org/t/p/w300/imekS7f1OuHyUP...</td>\n",
       "      <td>an amazon princess comes to the world of man t...</td>\n",
       "      <td>[duneentertainment, atlasentertainment, warner...</td>\n",
       "      <td>141.0</td>\n",
       "      <td>2017-05-30</td>\n",
       "      <td>7.2</td>\n",
       "      <td>Wonder Woman Collection</td>\n",
       "    </tr>\n",
       "    <tr>\n",
       "      <th>4289</th>\n",
       "      <td>402529</td>\n",
       "      <td>All Eyez on Me</td>\n",
       "      <td>[demetriusshippjr, danaigurira, katgraham, jam...</td>\n",
       "      <td>[tupac, shakur, afeni, shakur, jada, pinkett, ...</td>\n",
       "      <td>[bennyboom, jeremyhaft, edgonzalez, stevenbaga...</td>\n",
       "      <td>[drama, music]</td>\n",
       "      <td>tt1666185</td>\n",
       "      <td>https://image.tmdb.org/t/p/w300/zmgsaKFWbmZ1Gr...</td>\n",
       "      <td>all eyez on me chronicles the life and legacy ...</td>\n",
       "      <td>[morgancreekproductions]</td>\n",
       "      <td>139.0</td>\n",
       "      <td>2017-06-12</td>\n",
       "      <td>6.3</td>\n",
       "      <td>None</td>\n",
       "    </tr>\n",
       "    <tr>\n",
       "      <th>...</th>\n",
       "      <td>...</td>\n",
       "      <td>...</td>\n",
       "      <td>...</td>\n",
       "      <td>...</td>\n",
       "      <td>...</td>\n",
       "      <td>...</td>\n",
       "      <td>...</td>\n",
       "      <td>...</td>\n",
       "      <td>...</td>\n",
       "      <td>...</td>\n",
       "      <td>...</td>\n",
       "      <td>...</td>\n",
       "      <td>...</td>\n",
       "      <td>...</td>\n",
       "    </tr>\n",
       "    <tr>\n",
       "      <th>4514</th>\n",
       "      <td>339692</td>\n",
       "      <td>Shot Caller</td>\n",
       "      <td>[nikolajcoster-waldau, jonbernthal, lakebell, ...</td>\n",
       "      <td>[jacob, /, money, frank, 'shotgun', kate, kutc...</td>\n",
       "      <td>[ricromanwaugh]</td>\n",
       "      <td>[drama, crime, thriller]</td>\n",
       "      <td>tt4633690</td>\n",
       "      <td>https://image.tmdb.org/t/p/w300/qLmLz2wtyYvmW8...</td>\n",
       "      <td>a newly-released prison gangster is forced by ...</td>\n",
       "      <td>[boldfilms, participantmedia, relativitymedia,...</td>\n",
       "      <td>121.0</td>\n",
       "      <td>2017-07-13</td>\n",
       "      <td>6.9</td>\n",
       "      <td>None</td>\n",
       "    </tr>\n",
       "    <tr>\n",
       "      <th>4515</th>\n",
       "      <td>417870</td>\n",
       "      <td>Girls Trip</td>\n",
       "      <td>[reginahall, queenlatifah, jadapinkettsmith, t...</td>\n",
       "      <td>[ryan, pierce, sasha, franklin, lisa, cooper, ...</td>\n",
       "      <td>[malcolmdlee]</td>\n",
       "      <td>[comedy]</td>\n",
       "      <td>tt3564472</td>\n",
       "      <td>https://image.tmdb.org/t/p/w300/94nCLn74lBh4pL...</td>\n",
       "      <td>four girlfriends take a trip to new orleans fo...</td>\n",
       "      <td>[universalpictures, willpackerproductions]</td>\n",
       "      <td>122.0</td>\n",
       "      <td>2017-07-21</td>\n",
       "      <td>7.1</td>\n",
       "      <td>None</td>\n",
       "    </tr>\n",
       "    <tr>\n",
       "      <th>4517</th>\n",
       "      <td>407448</td>\n",
       "      <td>Detroit</td>\n",
       "      <td>[johnboyega, willpoulter, algeesmith, jasonmit...</td>\n",
       "      <td>[melvin, dismukes, philip, krauss, larry, reed...</td>\n",
       "      <td>[kathrynbigelow, markboal]</td>\n",
       "      <td>[thriller, crime, drama, history]</td>\n",
       "      <td>tt5390504</td>\n",
       "      <td>https://image.tmdb.org/t/p/w300/7APLVpsGzXPJw1...</td>\n",
       "      <td>a police raid in detroit in 1967 results in on...</td>\n",
       "      <td>[metro-goldwyn-mayer(mgm), annapurnapictures, ...</td>\n",
       "      <td>143.0</td>\n",
       "      <td>2017-07-28</td>\n",
       "      <td>7.3</td>\n",
       "      <td>None</td>\n",
       "    </tr>\n",
       "    <tr>\n",
       "      <th>4520</th>\n",
       "      <td>459950</td>\n",
       "      <td>Feed</td>\n",
       "      <td>[troianbellisario, tomfelton, benwinchell, jam...</td>\n",
       "      <td>[olivia, grey, matt, grey, julian, tom, samant...</td>\n",
       "      <td>[tommybertelsen]</td>\n",
       "      <td>[drama]</td>\n",
       "      <td>tt5226512</td>\n",
       "      <td>https://image.tmdb.org/t/p/w300/vg11iLI2cyluDO...</td>\n",
       "      <td>olivia and matthew grey, 18-year-old twins bor...</td>\n",
       "      <td>[indyentertainment]</td>\n",
       "      <td>96.0</td>\n",
       "      <td>2017-07-18</td>\n",
       "      <td>7.3</td>\n",
       "      <td>None</td>\n",
       "    </tr>\n",
       "    <tr>\n",
       "      <th>4523</th>\n",
       "      <td>450875</td>\n",
       "      <td>LA 92</td>\n",
       "      <td>[rodneyking, tombrokaw, georgehwbush, billclin...</td>\n",
       "      <td>[himself, (archive, footage), himself, (archiv...</td>\n",
       "      <td>[tjmartin, daniellindsay]</td>\n",
       "      <td>[documentary]</td>\n",
       "      <td>tt6794424</td>\n",
       "      <td>https://image.tmdb.org/t/p/w300/oT7OmkAoVnYDa8...</td>\n",
       "      <td>twenty-five years after the verdict in the rod...</td>\n",
       "      <td>[nationalgeographic]</td>\n",
       "      <td>114.0</td>\n",
       "      <td>2017-04-28</td>\n",
       "      <td>8.8</td>\n",
       "      <td>None</td>\n",
       "    </tr>\n",
       "  </tbody>\n",
       "</table>\n",
       "<p>117 rows × 14 columns</p>\n",
       "</div>"
      ],
      "text/plain": [
       "          id                                             title  \\\n",
       "4005  166426  Pirates of the Caribbean: Dead Men Tell No Tales   \n",
       "4009  283995                    Guardians of the Galaxy Vol. 2   \n",
       "4144  306943                                      The Outcasts   \n",
       "4157  297762                                      Wonder Woman   \n",
       "4289  402529                                    All Eyez on Me   \n",
       "...      ...                                               ...   \n",
       "4514  339692                                       Shot Caller   \n",
       "4515  417870                                        Girls Trip   \n",
       "4517  407448                                           Detroit   \n",
       "4520  459950                                              Feed   \n",
       "4523  450875                                             LA 92   \n",
       "\n",
       "                                                   cast  \\\n",
       "4005  [johnnydepp, javierbardem, geoffreyrush, brent...   \n",
       "4009  [chrispratt, zoesaldana, davebautista, vindies...   \n",
       "4144  [victoriajustice, edensher, ashleyrickards, av...   \n",
       "4157  [galgadot, chrispine, robinwright, dannyhuston...   \n",
       "4289  [demetriusshippjr, danaigurira, katgraham, jam...   \n",
       "...                                                 ...   \n",
       "4514  [nikolajcoster-waldau, jonbernthal, lakebell, ...   \n",
       "4515  [reginahall, queenlatifah, jadapinkettsmith, t...   \n",
       "4517  [johnboyega, willpoulter, algeesmith, jasonmit...   \n",
       "4520  [troianbellisario, tomfelton, benwinchell, jam...   \n",
       "4523  [rodneyking, tombrokaw, georgehwbush, billclin...   \n",
       "\n",
       "                                                  chara  \\\n",
       "4005  [captain, jack, sparrow, captain, armando, sal...   \n",
       "4009  [peter, quill, /, star-lord, gamora, drax, the...   \n",
       "4144  [jodi, watson, mindy, goldman, virginia, doe, ...   \n",
       "4157  [wonder, woman, /, diana, prince, steve, trevo...   \n",
       "4289  [tupac, shakur, afeni, shakur, jada, pinkett, ...   \n",
       "...                                                 ...   \n",
       "4514  [jacob, /, money, frank, 'shotgun', kate, kutc...   \n",
       "4515  [ryan, pierce, sasha, franklin, lisa, cooper, ...   \n",
       "4517  [melvin, dismukes, philip, krauss, larry, reed...   \n",
       "4520  [olivia, grey, matt, grey, julian, tom, samant...   \n",
       "4523  [himself, (archive, footage), himself, (archiv...   \n",
       "\n",
       "                                                   crew  \\\n",
       "4005     [jeffnathanson, joachimrønning, espensandberg]   \n",
       "4009                                        [jamesgunn]   \n",
       "4144                                   [peterhutchings]   \n",
       "4157                      [pattyjenkins, allanheinberg]   \n",
       "4289  [bennyboom, jeremyhaft, edgonzalez, stevenbaga...   \n",
       "...                                                 ...   \n",
       "4514                                    [ricromanwaugh]   \n",
       "4515                                      [malcolmdlee]   \n",
       "4517                         [kathrynbigelow, markboal]   \n",
       "4520                                   [tommybertelsen]   \n",
       "4523                          [tjmartin, daniellindsay]   \n",
       "\n",
       "                                           genres    imdb_id  \\\n",
       "4005         [adventure, action, fantasy, comedy]  tt1790809   \n",
       "4009  [action, adventure, comedy, sciencefiction]  tt3896198   \n",
       "4144                                     [comedy]  tt2597760   \n",
       "4157                 [action, adventure, fantasy]  tt0451279   \n",
       "4289                               [drama, music]  tt1666185   \n",
       "...                                           ...        ...   \n",
       "4514                     [drama, crime, thriller]  tt4633690   \n",
       "4515                                     [comedy]  tt3564472   \n",
       "4517            [thriller, crime, drama, history]  tt5390504   \n",
       "4520                                      [drama]  tt5226512   \n",
       "4523                                [documentary]  tt6794424   \n",
       "\n",
       "                                                 poster  \\\n",
       "4005  https://image.tmdb.org/t/p/w300/xbpSDU3p7YUGlu...   \n",
       "4009  https://image.tmdb.org/t/p/w300/y4MBh0EjBlMuOz...   \n",
       "4144  https://image.tmdb.org/t/p/w300/44jotbmLRwHSIc...   \n",
       "4157  https://image.tmdb.org/t/p/w300/imekS7f1OuHyUP...   \n",
       "4289  https://image.tmdb.org/t/p/w300/zmgsaKFWbmZ1Gr...   \n",
       "...                                                 ...   \n",
       "4514  https://image.tmdb.org/t/p/w300/qLmLz2wtyYvmW8...   \n",
       "4515  https://image.tmdb.org/t/p/w300/94nCLn74lBh4pL...   \n",
       "4517  https://image.tmdb.org/t/p/w300/7APLVpsGzXPJw1...   \n",
       "4520  https://image.tmdb.org/t/p/w300/vg11iLI2cyluDO...   \n",
       "4523  https://image.tmdb.org/t/p/w300/oT7OmkAoVnYDa8...   \n",
       "\n",
       "                                                   desc  \\\n",
       "4005  thrust into an all-new paycheck, a down-on-his...   \n",
       "4009  the guardians must fight to keep their newfoun...   \n",
       "4144  after falling victim to a humiliating prank by...   \n",
       "4157  an amazon princess comes to the world of man t...   \n",
       "4289  all eyez on me chronicles the life and legacy ...   \n",
       "...                                                 ...   \n",
       "4514  a newly-released prison gangster is forced by ...   \n",
       "4515  four girlfriends take a trip to new orleans fo...   \n",
       "4517  a police raid in detroit in 1967 results in on...   \n",
       "4520  olivia and matthew grey, 18-year-old twins bor...   \n",
       "4523  twenty-five years after the verdict in the rod...   \n",
       "\n",
       "                                   production_companies  runtime release_date  \\\n",
       "4005  [waltdisneypictures, jerrybruckheimerfilms, in...    129.0   2017-05-23   \n",
       "4009                [waltdisneypictures, marvelstudios]    137.0   2017-04-19   \n",
       "4144                                     [bcdfpictures]     95.0   2017-04-14   \n",
       "4157  [duneentertainment, atlasentertainment, warner...    141.0   2017-05-30   \n",
       "4289                           [morgancreekproductions]    139.0   2017-06-12   \n",
       "...                                                 ...      ...          ...   \n",
       "4514  [boldfilms, participantmedia, relativitymedia,...    121.0   2017-07-13   \n",
       "4515         [universalpictures, willpackerproductions]    122.0   2017-07-21   \n",
       "4517  [metro-goldwyn-mayer(mgm), annapurnapictures, ...    143.0   2017-07-28   \n",
       "4520                                [indyentertainment]     96.0   2017-07-18   \n",
       "4523                               [nationalgeographic]    114.0   2017-04-28   \n",
       "\n",
       "      vote_average                belongs_to_collection  \n",
       "4005           6.6  Pirates of the Caribbean Collection  \n",
       "4009           7.6   Guardians of the Galaxy Collection  \n",
       "4144           7.1                                 None  \n",
       "4157           7.2              Wonder Woman Collection  \n",
       "4289           6.3                                 None  \n",
       "...            ...                                  ...  \n",
       "4514           6.9                                 None  \n",
       "4515           7.1                                 None  \n",
       "4517           7.3                                 None  \n",
       "4520           7.3                                 None  \n",
       "4523           8.8                                 None  \n",
       "\n",
       "[117 rows x 14 columns]"
      ]
     },
     "execution_count": 19,
     "metadata": {},
     "output_type": "execute_result"
    }
   ],
   "source": [
    "mdata[(mdata.release_date.dt.year == 2017) & (mdata.vote_average > 6)]"
   ]
  },
  {
   "cell_type": "code",
   "execution_count": 20,
   "metadata": {
    "Collapsed": "false"
   },
   "outputs": [],
   "source": [
    "mdata.to_json(r'movies.json')\n",
    "mdata.to_csv(r'movies.csv')"
   ]
  },
  {
   "cell_type": "markdown",
   "metadata": {
    "Collapsed": "false",
    "toc-hr-collapsed": false
   },
   "source": [
    "# Mess with Text Data"
   ]
  },
  {
   "cell_type": "code",
   "execution_count": 21,
   "metadata": {
    "Collapsed": "false"
   },
   "outputs": [],
   "source": [
    "movies = pd.read_json('movies.json')\n",
    "movies.release_date = pd.to_datetime(movies.release_date * 1000000)\n",
    "movies['year'] = movies.release_date.dt.year"
   ]
  },
  {
   "cell_type": "code",
   "execution_count": 22,
   "metadata": {
    "Collapsed": "false"
   },
   "outputs": [],
   "source": [
    "z = []\n",
    "for x in movies.genres:\n",
    "    z = z + x\n",
    "genres = list(set(z))"
   ]
  },
  {
   "cell_type": "code",
   "execution_count": 23,
   "metadata": {
    "Collapsed": "false"
   },
   "outputs": [],
   "source": [
    "my_additional_stop_words = []\n",
    "stop_words = text.ENGLISH_STOP_WORDS.union(my_additional_stop_words)"
   ]
  },
  {
   "cell_type": "code",
   "execution_count": 24,
   "metadata": {
    "Collapsed": "false"
   },
   "outputs": [],
   "source": [
    "r = Rake()\n",
    "ps = WordNetLemmatizer()#('english')\n",
    "\n",
    "def keywordify(fs):\n",
    "    r.extract_keywords_from_text(fs)\n",
    "    kws = [ps.lemmatize(x) for x in list(r.get_word_degrees().keys()) if not x in genres and x not in stop_words]\n",
    "    \n",
    "    return kws[:10]\n",
    "\n",
    "\n",
    "def stringify(s):\n",
    "    news = ' '.join(s)\n",
    "    \n",
    "    return news.strip()"
   ]
  },
  {
   "cell_type": "code",
   "execution_count": 25,
   "metadata": {
    "Collapsed": "false"
   },
   "outputs": [],
   "source": [
    "movies['keywords'] = movies.desc.apply(keywordify)\n",
    "movies['allwords'] = movies.crew + movies.keywords + movies.cast + movies.genres\n",
    "movies['allwords'] = movies.allwords.apply(stringify)"
   ]
  },
  {
   "cell_type": "code",
   "execution_count": 26,
   "metadata": {
    "Collapsed": "false"
   },
   "outputs": [],
   "source": [
    "for x in range(len(movies.keywords)):\n",
    "    xx = [ps.lemmatize(i) for i in movies.title.iloc[x].lower().split(' ')] + [ps.lemmatize(i) for i in movies.chara.iloc[x]]\n",
    "    for y in xx:\n",
    "        if y in movies.keywords.iloc[x]:\n",
    "            movies.keywords.iloc[x].remove(y)"
   ]
  },
  {
   "cell_type": "code",
   "execution_count": 55,
   "metadata": {
    "Collapsed": "false"
   },
   "outputs": [],
   "source": [
    "mrec = movies[['title','allwords','year','vote_average']]"
   ]
  },
  {
   "cell_type": "code",
   "execution_count": 56,
   "metadata": {
    "Collapsed": "false"
   },
   "outputs": [],
   "source": [
    "tf = TfidfVectorizer(analyzer='word', stop_words=stop_words)\n",
    "count_matrix = tf.fit_transform(movies['allwords'])\n",
    "cosine_sim = cosine_similarity(count_matrix, count_matrix)"
   ]
  },
  {
   "cell_type": "markdown",
   "metadata": {
    "Collapsed": "false"
   },
   "source": [
    "## Recommending"
   ]
  },
  {
   "cell_type": "code",
   "execution_count": 30,
   "metadata": {
    "Collapsed": "false"
   },
   "outputs": [],
   "source": [
    "class recommendation():\n",
    "    def __init__(self, movies, cosine_sim):\n",
    "        self.movies = movies\n",
    "        self.cosine_sim = cosine_sim\n",
    "        self.fullindices = movies.title + ' (' + movies.year.astype(str) + ')'\n",
    "    \n",
    "    def indices(self):\n",
    "        return self.fullindices\n",
    "    \n",
    "    def recommend(self, title, year):\n",
    "        movies = self.movies\n",
    "        recommended_movies = []\n",
    "        fullindices = self.fullindices\n",
    "        gen1 = list(movies[(movies.title == title) & (movies.year == year)].genres)[0]\n",
    "        col1 = list(movies[(movies.title == title) & (movies.year == year)].belongs_to_collection)[0]\n",
    "        title = title + ' (' + str(year) + ')'\n",
    "        idx = fullindices[fullindices == title].index[0]\n",
    "        score_series = pd.Series(self.cosine_sim[idx]).sort_values(ascending = False)\n",
    "        top_10_indices = list(score_series.iloc[1:51].index)\n",
    "        if col1 == None:\n",
    "            col1 = 'xoxogossipgirl'\n",
    "\n",
    "        for i in top_10_indices:\n",
    "            recommended_movies.append(list(fullindices)[i])\n",
    "\n",
    "        rec_movies = []\n",
    "        for i in recommended_movies:\n",
    "            title2 = i[:-7]\n",
    "            year2 = int(i[-5:-1])\n",
    "            rating = list(movies[(movies.title == title2) & (movies.year == year2)].vote_average)[0]\n",
    "            gen2 = list(movies[(movies.title == title2) & (movies.year == year2)].genres)[0]\n",
    "            col2 = list(movies[(movies.title == title2) & (movies.year == year2)].belongs_to_collection)[0]\n",
    "            if (rating > 6) & (len(gen1+gen2) > len(set(gen1+gen2))) & (col1 != col2):\n",
    "                rec_movies.append(i)\n",
    "\n",
    "        return rec_movies[:5]\n",
    "    \n",
    "    def posters(self, title, year):\n",
    "        rec_movies = self.recommend(title, year)\n",
    "        posterlist = []\n",
    "        for i in rec_movies:\n",
    "            title = i[:-7]\n",
    "            year = int(i[-5:-1])\n",
    "            poster = list(movies[(movies.title == title) & (movies.year == year)].poster_path)[0]\n",
    "            posterlist.append('https://image.tmdb.org/t/p/w1280' + poster)\n",
    "        return posterlist"
   ]
  },
  {
   "cell_type": "code",
   "execution_count": 31,
   "metadata": {
    "Collapsed": "false"
   },
   "outputs": [],
   "source": [
    "rec = recommendation(movies, cosine_sim)"
   ]
  },
  {
   "cell_type": "code",
   "execution_count": 32,
   "metadata": {
    "Collapsed": "false"
   },
   "outputs": [
    {
     "data": {
      "text/plain": [
       "['Frida (2002)',\n",
       " 'The Visitor (2007)',\n",
       " 'Notorious (2009)',\n",
       " 'Zero Dark Thirty (2012)',\n",
       " 'The Life of David Gale (2003)']"
      ]
     },
     "execution_count": 32,
     "metadata": {},
     "output_type": "execute_result"
    }
   ],
   "source": [
    "rec.recommend(\"All Eyez on Me\",2017)"
   ]
  },
  {
   "cell_type": "code",
   "execution_count": 33,
   "metadata": {
    "Collapsed": "false"
   },
   "outputs": [
    {
     "data": {
      "text/plain": [
       "0                         Toy Story (1995)\n",
       "1                           Jumanji (1995)\n",
       "2                 Waiting to Exhale (1995)\n",
       "3       Father of the Bride Part II (1995)\n",
       "4                              Heat (1995)\n",
       "                       ...                \n",
       "4521                         Sahara (2017)\n",
       "4522                     First Kill (2017)\n",
       "4523                          LA 92 (2017)\n",
       "4524              American Violence (2017)\n",
       "4525    Cop and a Half: New Recruit (2017)\n",
       "Length: 4526, dtype: object"
      ]
     },
     "execution_count": 33,
     "metadata": {},
     "output_type": "execute_result"
    }
   ],
   "source": [
    "rec.indices()"
   ]
  },
  {
   "cell_type": "code",
   "execution_count": 34,
   "metadata": {
    "Collapsed": "false"
   },
   "outputs": [],
   "source": [
    "import pickle\n",
    "pickle.dump(rec,open('recommender.p','wb'))"
   ]
  },
  {
   "cell_type": "code",
   "execution_count": 35,
   "metadata": {
    "Collapsed": "false"
   },
   "outputs": [
    {
     "ename": "FileNotFoundError",
     "evalue": "[Errno 2] No such file or directory: 'exercise/recommender.p'",
     "output_type": "error",
     "traceback": [
      "\u001b[0;31m---------------------------------------------------------------------------\u001b[0m",
      "\u001b[0;31mFileNotFoundError\u001b[0m                         Traceback (most recent call last)",
      "\u001b[0;32m<ipython-input-35-d4572928e35a>\u001b[0m in \u001b[0;36m<module>\u001b[0;34m\u001b[0m\n\u001b[0;32m----> 1\u001b[0;31m \u001b[0mmy_model\u001b[0m \u001b[0;34m=\u001b[0m \u001b[0mpickle\u001b[0m\u001b[0;34m.\u001b[0m\u001b[0mload\u001b[0m\u001b[0;34m(\u001b[0m\u001b[0mopen\u001b[0m\u001b[0;34m(\u001b[0m\u001b[0;34m\"exercise/recommender.p\"\u001b[0m\u001b[0;34m,\u001b[0m\u001b[0;34m\"rb\"\u001b[0m\u001b[0;34m)\u001b[0m\u001b[0;34m)\u001b[0m\u001b[0;34m\u001b[0m\u001b[0;34m\u001b[0m\u001b[0m\n\u001b[0m",
      "\u001b[0;31mFileNotFoundError\u001b[0m: [Errno 2] No such file or directory: 'exercise/recommender.p'"
     ]
    }
   ],
   "source": [
    "# my_model = pickle.load(open(\"exercise/recommender.p\",\"rb\"))"
   ]
  },
  {
   "cell_type": "code",
   "execution_count": null,
   "metadata": {
    "Collapsed": "false"
   },
   "outputs": [],
   "source": [
    "# my_model.recommend('Dogma',1999)"
   ]
  },
  {
   "cell_type": "code",
   "execution_count": 59,
   "metadata": {
    "Collapsed": "false"
   },
   "outputs": [],
   "source": [
    "movies.to_csv(r'movies.csv',index=False)"
   ]
  },
  {
   "cell_type": "code",
   "execution_count": null,
   "metadata": {
    "Collapsed": "false"
   },
   "outputs": [],
   "source": [
    "pickle.dump(cosine_sim,open('csim.p','wb'))"
   ]
  },
  {
   "cell_type": "code",
   "execution_count": null,
   "metadata": {
    "Collapsed": "false"
   },
   "outputs": [],
   "source": [
    "movies[movies.year == 2017]"
   ]
  },
  {
   "cell_type": "code",
   "execution_count": 38,
   "metadata": {
    "Collapsed": "false"
   },
   "outputs": [
    {
     "data": {
      "text/plain": [
       "array([[1.        , 0.00605522, 0.00278811, ..., 0.        , 0.        ,\n",
       "        0.03886269],\n",
       "       [0.00605522, 1.        , 0.        , ..., 0.        , 0.        ,\n",
       "        0.00748477],\n",
       "       [0.00278811, 0.        , 1.        , ..., 0.        , 0.00287352,\n",
       "        0.00344635],\n",
       "       ...,\n",
       "       [0.        , 0.        , 0.        , ..., 1.        , 0.        ,\n",
       "        0.        ],\n",
       "       [0.        , 0.        , 0.00287352, ..., 0.        , 1.        ,\n",
       "        0.0066859 ],\n",
       "       [0.03886269, 0.00748477, 0.00344635, ..., 0.        , 0.0066859 ,\n",
       "        1.        ]])"
      ]
     },
     "execution_count": 38,
     "metadata": {},
     "output_type": "execute_result"
    }
   ],
   "source": [
    "cosine_sim"
   ]
  },
  {
   "cell_type": "code",
   "execution_count": 51,
   "metadata": {
    "Collapsed": "false"
   },
   "outputs": [],
   "source": [
    "csimcsv = pd.DataFrame(cosine_sim)\n",
    "csimcsv.to_csv(r'csim.csv',index=False)"
   ]
  },
  {
   "cell_type": "code",
   "execution_count": 52,
   "metadata": {
    "Collapsed": "false"
   },
   "outputs": [
    {
     "data": {
      "text/plain": [
       "array([[1.        , 0.00605522, 0.00278811, ..., 0.        , 0.        ,\n",
       "        0.03886269],\n",
       "       [0.00605522, 1.        , 0.        , ..., 0.        , 0.        ,\n",
       "        0.00748477],\n",
       "       [0.00278811, 0.        , 1.        , ..., 0.        , 0.00287352,\n",
       "        0.00344635],\n",
       "       ...,\n",
       "       [0.        , 0.        , 0.        , ..., 1.        , 0.        ,\n",
       "        0.        ],\n",
       "       [0.        , 0.        , 0.00287352, ..., 0.        , 1.        ,\n",
       "        0.0066859 ],\n",
       "       [0.03886269, 0.00748477, 0.00344635, ..., 0.        , 0.0066859 ,\n",
       "        1.        ]])"
      ]
     },
     "execution_count": 52,
     "metadata": {},
     "output_type": "execute_result"
    }
   ],
   "source": [
    "np.array(csimcsv)"
   ]
  },
  {
   "cell_type": "code",
   "execution_count": 53,
   "metadata": {
    "Collapsed": "false"
   },
   "outputs": [
    {
     "data": {
      "text/plain": [
       "(4526, 17)"
      ]
     },
     "execution_count": 53,
     "metadata": {},
     "output_type": "execute_result"
    }
   ],
   "source": [
    "movies.shape"
   ]
  },
  {
   "cell_type": "code",
   "execution_count": null,
   "metadata": {
    "Collapsed": "false"
   },
   "outputs": [],
   "source": []
  }
 ],
 "metadata": {
  "kernelspec": {
   "display_name": "Python [conda env:metis] *",
   "language": "python",
   "name": "conda-env-metis-py"
  },
  "language_info": {
   "codemirror_mode": {
    "name": "ipython",
    "version": 3
   },
   "file_extension": ".py",
   "mimetype": "text/x-python",
   "name": "python",
   "nbconvert_exporter": "python",
   "pygments_lexer": "ipython3",
   "version": "3.7.4"
  },
  "toc": {
   "base_numbering": 1,
   "nav_menu": {},
   "number_sections": true,
   "sideBar": true,
   "skip_h1_title": false,
   "title_cell": "Table of Contents",
   "title_sidebar": "Contents",
   "toc_cell": false,
   "toc_position": {},
   "toc_section_display": true,
   "toc_window_display": false
  },
  "toc-autonumbering": true,
  "toc-showcode": false,
  "toc-showmarkdowntxt": false,
  "toc-showtags": false
 },
 "nbformat": 4,
 "nbformat_minor": 4
}
